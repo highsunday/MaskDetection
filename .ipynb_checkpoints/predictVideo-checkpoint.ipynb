{
 "cells": [
  {
   "cell_type": "code",
   "execution_count": 1,
   "metadata": {},
   "outputs": [],
   "source": [
    "import numpy as np\n",
    "from PIL import Image\n",
    "import matplotlib.pyplot as plt\n",
    "import warnings\n",
    "import tensorflow as tf\n",
    "from object_detection.utils import label_map_util\n",
    "from object_detection.utils import visualization_utils as viz_utils\n",
    "import cv2\n",
    "from tensorflow.compat.v1 import ConfigProto\n",
    "from tensorflow.compat.v1 import InteractiveSession\n",
    "from tqdm import tqdm\n",
    "\n",
    "config = ConfigProto()\n",
    "config.gpu_options.allow_growth = True\n",
    "session = InteractiveSession(config=config)"
   ]
  },
  {
   "cell_type": "code",
   "execution_count": 7,
   "metadata": {},
   "outputs": [],
   "source": [
    "#warnings.filterwarnings('ignore')   # Suppress Matplotlib warnings\n",
    "input_video_name='short_hamilton_clip'\n",
    "PATH_TO_SAVED_MODEL=\"exported-models/my_model/saved_model\"\n",
    "PATH_TO_LABELS=\"annotations/label_map.pbtxt\"\n",
    "detect_fn = tf.saved_model.load(PATH_TO_SAVED_MODEL)\n",
    "category_index = label_map_util.create_category_index_from_labelmap(PATH_TO_LABELS,use_display_name=True)"
   ]
  },
  {
   "cell_type": "code",
   "execution_count": 8,
   "metadata": {},
   "outputs": [],
   "source": [
    "cap = cv2.VideoCapture(input_video_name+\".mp4\")\n",
    "length = int(cap.get(cv2.CAP_PROP_FRAME_COUNT))\n",
    "fps = cap.get(cv2.CAP_PROP_FPS)\n",
    "size = (int(cap.get(cv2.CAP_PROP_FRAME_WIDTH)),int(cap.get(cv2.CAP_PROP_FRAME_HEIGHT)))"
   ]
  },
  {
   "cell_type": "code",
   "execution_count": 9,
   "metadata": {},
   "outputs": [
    {
     "data": {
      "text/plain": [
       "(640, 360)"
      ]
     },
     "execution_count": 9,
     "metadata": {},
     "output_type": "execute_result"
    }
   ],
   "source": [
    "size"
   ]
  },
  {
   "cell_type": "code",
   "execution_count": 10,
   "metadata": {},
   "outputs": [],
   "source": [
    "#fourcc = cv2.VideoWriter_fourcc(*'XVID')\n",
    "#out = cv2.VideoWriter(input_video_name+\"_out\"+'.mp4', fourcc, fps, size)\n",
    "fourcc = cv2.VideoWriter_fourcc(*'H264')\n",
    "out=cv2.VideoWriter('Video.mp4',fourcc, fps, size)"
   ]
  },
  {
   "cell_type": "code",
   "execution_count": 11,
   "metadata": {
    "scrolled": false
   },
   "outputs": [
    {
     "name": "stderr",
     "output_type": "stream",
     "text": [
      "\n",
      "  0%|          | 0/275 [00:00<?, ?it/s]\u001b[A\n",
      "  1%|          | 2/275 [00:01<02:28,  1.83it/s]\u001b[A\n",
      "  2%|▏         | 5/275 [00:01<01:46,  2.52it/s]\u001b[A\n",
      "  3%|▎         | 7/275 [00:01<01:18,  3.40it/s]\u001b[A\n",
      "  3%|▎         | 9/275 [00:01<00:59,  4.48it/s]\u001b[A\n",
      "  4%|▍         | 11/275 [00:01<00:45,  5.79it/s]\u001b[A\n",
      "  5%|▌         | 14/275 [00:01<00:35,  7.41it/s]\u001b[A\n",
      "  6%|▌         | 17/275 [00:01<00:27,  9.35it/s]\u001b[A\n",
      "  7%|▋         | 20/275 [00:01<00:22, 11.38it/s]\u001b[A\n",
      "  8%|▊         | 23/275 [00:02<00:19, 13.20it/s]\u001b[A\n",
      "  9%|▉         | 26/275 [00:02<00:17, 14.47it/s]\u001b[A\n",
      " 10%|█         | 28/275 [00:02<00:15, 15.75it/s]\u001b[A\n",
      " 11%|█▏        | 31/275 [00:02<00:14, 17.37it/s]\u001b[A\n",
      " 12%|█▏        | 34/275 [00:02<00:12, 18.69it/s]\u001b[A\n",
      " 13%|█▎        | 37/275 [00:02<00:12, 19.51it/s]\u001b[A\n",
      " 15%|█▍        | 40/275 [00:02<00:12, 19.27it/s]\u001b[A\n",
      " 16%|█▌        | 43/275 [00:03<00:11, 19.63it/s]\u001b[A\n",
      " 17%|█▋        | 46/275 [00:03<00:11, 20.45it/s]\u001b[A\n",
      " 18%|█▊        | 49/275 [00:03<00:10, 21.29it/s]\u001b[A\n",
      " 19%|█▉        | 52/275 [00:03<00:10, 21.12it/s]\u001b[A\n",
      " 20%|██        | 55/275 [00:03<00:10, 21.80it/s]\u001b[A\n",
      " 21%|██        | 58/275 [00:03<00:09, 22.14it/s]\u001b[A\n",
      " 22%|██▏       | 61/275 [00:03<00:10, 20.94it/s]\u001b[A\n",
      " 23%|██▎       | 64/275 [00:04<00:10, 20.73it/s]\u001b[A\n",
      " 24%|██▍       | 67/275 [00:04<00:09, 21.11it/s]\u001b[A\n",
      " 25%|██▌       | 70/275 [00:04<00:09, 21.15it/s]\u001b[A\n",
      " 27%|██▋       | 73/275 [00:04<00:10, 19.89it/s]\u001b[A\n",
      " 28%|██▊       | 76/275 [00:04<00:09, 20.59it/s]\u001b[A\n",
      " 29%|██▊       | 79/275 [00:04<00:08, 21.79it/s]\u001b[A\n",
      " 30%|██▉       | 82/275 [00:04<00:08, 22.32it/s]\u001b[A\n",
      " 31%|███       | 85/275 [00:05<00:08, 21.67it/s]\u001b[A\n",
      " 32%|███▏      | 88/275 [00:05<00:09, 20.02it/s]\u001b[A\n",
      " 33%|███▎      | 91/275 [00:05<00:09, 19.97it/s]\u001b[A\n",
      " 34%|███▍      | 94/275 [00:05<00:08, 20.78it/s]\u001b[A\n",
      " 35%|███▌      | 97/275 [00:05<00:08, 20.23it/s]\u001b[A\n",
      " 36%|███▋      | 100/275 [00:05<00:08, 19.66it/s]\u001b[A\n",
      " 37%|███▋      | 102/275 [00:05<00:08, 19.49it/s]\u001b[A\n",
      " 38%|███▊      | 104/275 [00:06<00:08, 19.60it/s]\u001b[A\n",
      " 39%|███▉      | 107/275 [00:06<00:08, 20.20it/s]\u001b[A\n",
      " 40%|████      | 110/275 [00:06<00:07, 20.99it/s]\u001b[A\n",
      " 41%|████      | 113/275 [00:06<00:07, 20.53it/s]\u001b[A\n",
      " 42%|████▏     | 116/275 [00:06<00:07, 20.56it/s]\u001b[A\n",
      " 43%|████▎     | 119/275 [00:06<00:07, 19.78it/s]\u001b[A\n",
      " 44%|████▍     | 121/275 [00:06<00:08, 19.13it/s]\u001b[A\n",
      " 45%|████▌     | 124/275 [00:06<00:07, 20.38it/s]\u001b[A\n",
      " 46%|████▌     | 127/275 [00:07<00:07, 19.98it/s]\u001b[A\n",
      " 47%|████▋     | 130/275 [00:07<00:07, 19.96it/s]\u001b[A\n",
      " 48%|████▊     | 133/275 [00:07<00:07, 19.66it/s]\u001b[A\n",
      " 49%|████▉     | 135/275 [00:07<00:07, 19.11it/s]\u001b[A\n",
      " 50%|█████     | 138/275 [00:07<00:06, 19.64it/s]\u001b[A\n",
      " 51%|█████     | 140/275 [00:07<00:07, 18.96it/s]\u001b[A\n",
      " 52%|█████▏    | 142/275 [00:07<00:06, 19.03it/s]\u001b[A\n",
      " 52%|█████▏    | 144/275 [00:08<00:06, 19.03it/s]\u001b[A\n",
      " 53%|█████▎    | 147/275 [00:08<00:06, 19.48it/s]\u001b[A\n",
      " 54%|█████▍    | 149/275 [00:08<00:06, 18.59it/s]\u001b[A\n",
      " 55%|█████▍    | 151/275 [00:08<00:06, 18.56it/s]\u001b[A\n",
      " 56%|█████▌    | 153/275 [00:08<00:06, 18.09it/s]\u001b[A\n",
      " 56%|█████▋    | 155/275 [00:08<00:06, 18.34it/s]\u001b[A\n",
      " 57%|█████▋    | 157/275 [00:08<00:06, 18.75it/s]\u001b[A\n",
      " 58%|█████▊    | 160/275 [00:08<00:05, 19.32it/s]\u001b[A\n",
      " 59%|█████▉    | 162/275 [00:08<00:05, 19.29it/s]\u001b[A\n",
      " 60%|██████    | 165/275 [00:09<00:05, 20.49it/s]\u001b[A\n",
      " 61%|██████    | 168/275 [00:09<00:05, 20.33it/s]\u001b[A\n",
      " 62%|██████▏   | 171/275 [00:09<00:05, 19.18it/s]\u001b[A\n",
      " 63%|██████▎   | 173/275 [00:09<00:05, 18.82it/s]\u001b[A\n",
      " 64%|██████▍   | 176/275 [00:09<00:05, 19.57it/s]\u001b[A\n",
      " 65%|██████▍   | 178/275 [00:09<00:04, 19.59it/s]\u001b[A\n",
      " 65%|██████▌   | 180/275 [00:09<00:04, 19.45it/s]\u001b[A\n",
      " 67%|██████▋   | 183/275 [00:10<00:04, 19.78it/s]\u001b[A\n",
      " 68%|██████▊   | 186/275 [00:10<00:04, 20.54it/s]\u001b[A\n",
      " 69%|██████▊   | 189/275 [00:10<00:04, 21.29it/s]\u001b[A\n",
      " 70%|██████▉   | 192/275 [00:10<00:03, 22.13it/s]\u001b[A\n",
      " 71%|███████   | 195/275 [00:10<00:03, 22.95it/s]\u001b[A\n",
      " 72%|███████▏  | 198/275 [00:10<00:03, 23.58it/s]\u001b[A\n",
      " 73%|███████▎  | 201/275 [00:10<00:03, 23.66it/s]\u001b[A\n",
      " 74%|███████▍  | 204/275 [00:10<00:02, 23.77it/s]\u001b[A\n",
      " 75%|███████▌  | 207/275 [00:11<00:03, 21.39it/s]\u001b[A\n",
      " 76%|███████▋  | 210/275 [00:11<00:02, 21.81it/s]\u001b[A\n",
      " 77%|███████▋  | 213/275 [00:11<00:02, 21.36it/s]\u001b[A\n",
      " 79%|███████▊  | 216/275 [00:11<00:02, 19.71it/s]\u001b[A\n",
      " 80%|███████▉  | 219/275 [00:11<00:02, 19.37it/s]\u001b[A\n",
      " 80%|████████  | 221/275 [00:11<00:02, 18.80it/s]\u001b[A\n",
      " 81%|████████▏ | 224/275 [00:11<00:02, 19.68it/s]\u001b[A\n",
      " 83%|████████▎ | 227/275 [00:12<00:02, 19.73it/s]\u001b[A\n",
      " 84%|████████▎ | 230/275 [00:12<00:02, 19.80it/s]\u001b[A\n",
      " 84%|████████▍ | 232/275 [00:12<00:02, 19.07it/s]\u001b[A\n",
      " 85%|████████▌ | 234/275 [00:12<00:02, 18.68it/s]\u001b[A\n",
      " 86%|████████▌ | 236/275 [00:12<00:02, 18.07it/s]\u001b[A\n",
      " 87%|████████▋ | 238/275 [00:12<00:02, 18.34it/s]\u001b[A\n",
      " 88%|████████▊ | 241/275 [00:12<00:01, 19.03it/s]\u001b[A\n",
      " 88%|████████▊ | 243/275 [00:12<00:01, 19.30it/s]\u001b[A\n",
      " 89%|████████▉ | 245/275 [00:13<00:01, 19.48it/s]\u001b[A\n",
      " 90%|█████████ | 248/275 [00:13<00:01, 19.70it/s]\u001b[A\n",
      " 91%|█████████▏| 251/275 [00:13<00:01, 20.39it/s]\u001b[A\n",
      " 92%|█████████▏| 254/275 [00:13<00:00, 21.36it/s]\u001b[A\n",
      " 93%|█████████▎| 257/275 [00:13<00:00, 22.21it/s]\u001b[A\n",
      " 95%|█████████▍| 260/275 [00:13<00:00, 21.40it/s]\u001b[A\n",
      " 96%|█████████▌| 263/275 [00:13<00:00, 21.12it/s]\u001b[A\n",
      " 97%|█████████▋| 266/275 [00:13<00:00, 21.82it/s]\u001b[A\n",
      " 98%|█████████▊| 269/275 [00:14<00:00, 21.84it/s]\u001b[A\n",
      " 99%|█████████▉| 272/275 [00:14<00:00, 22.18it/s]\u001b[A\n",
      "100%|██████████| 275/275 [00:14<00:00, 21.48it/s]\u001b[A"
     ]
    },
    {
     "name": "stdout",
     "output_type": "stream",
     "text": [
      "Can't receive frame (stream end?). Exiting ...\n"
     ]
    },
    {
     "name": "stderr",
     "output_type": "stream",
     "text": [
      "\n",
      "276it [00:30, 21.48it/s]                         \u001b[A"
     ]
    }
   ],
   "source": [
    "progress = tqdm(total=length)\n",
    "frame_number=0 \n",
    "while cap.isOpened():\n",
    "    progress.update(1)\n",
    "    frame_number+=1\n",
    "    ret, frame = cap.read()\n",
    "    # if frame is read correctly ret is True\n",
    "    if not ret:\n",
    "        print(\"Can't receive frame (stream end?). Exiting ...\")\n",
    "        break\n",
    "    \n",
    "    frame[:,:, [2, 0]] = frame[:,:, [0, 2]] \n",
    "    input_tensor = tf.convert_to_tensor(frame)\n",
    "    # The model expects a batch of images, so add an axis with `tf.newaxis`.\n",
    "    input_tensor = input_tensor[tf.newaxis, ...]\n",
    "    detections = detect_fn(input_tensor)\n",
    "    num_detections = int(detections.pop('num_detections'))\n",
    "    detections = {key: value[0, :num_detections].numpy() for key, value in detections.items()}\n",
    "    detections['num_detections'] = num_detections\n",
    "    detections['detection_classes'] = detections['detection_classes'].astype(np.int64)\n",
    "    image_np_with_detections = frame.copy()\n",
    "    viz_utils.visualize_boxes_and_labels_on_image_array(\n",
    "          image_np_with_detections,\n",
    "          detections['detection_boxes'],\n",
    "          detections['detection_classes'],\n",
    "          detections['detection_scores'],\n",
    "          category_index,\n",
    "          use_normalized_coordinates=True,\n",
    "          max_boxes_to_draw=200,\n",
    "          min_score_thresh=.30,\n",
    "          agnostic_mode=False)\n",
    "    image_np_with_detections[:,:, [2, 0]] = image_np_with_detections[:,:, [0, 2]] \n",
    "    gray_show = cv2.resize(image_np_with_detections, size, interpolation=cv2.INTER_CUBIC)\n",
    "    #cv2.imshow('frame', gray_show)\n",
    "    \n",
    "    #print(\"Writing frame {} / {}\".format(frame_number, length))\n",
    "    out.write(gray_show)\n",
    "    \n",
    "\n",
    "    if cv2.waitKey(1) == ord('q'):\n",
    "        break\n",
    "cap.release()\n",
    "out.release()\n",
    "cv2.destroyAllWindows()"
   ]
  },
  {
   "cell_type": "code",
   "execution_count": null,
   "metadata": {},
   "outputs": [],
   "source": [
    "#import os\n",
    "#os.system(\"ffmpeg -i test_video.mp4 -vcodec libx264 Video2.mp4\")"
   ]
  },
  {
   "cell_type": "code",
   "execution_count": null,
   "metadata": {},
   "outputs": [],
   "source": []
  }
 ],
 "metadata": {
  "kernelspec": {
   "display_name": "python_yolo",
   "language": "python",
   "name": "python_yolo"
  },
  "language_info": {
   "codemirror_mode": {
    "name": "ipython",
    "version": 3
   },
   "file_extension": ".py",
   "mimetype": "text/x-python",
   "name": "python",
   "nbconvert_exporter": "python",
   "pygments_lexer": "ipython3",
   "version": "3.7.9"
  }
 },
 "nbformat": 4,
 "nbformat_minor": 4
}
